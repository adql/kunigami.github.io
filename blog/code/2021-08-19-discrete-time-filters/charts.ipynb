{
 "cells": [
  {
   "cell_type": "markdown",
   "id": "18ad5cc0",
   "metadata": {},
   "source": [
    "# Discrete Filters\n",
    "\n",
    "Charts and source code for the *Discrete Filters* [post](https://www.kuniga.me/blog/2021/09/31/discrete-filters.html)."
   ]
  },
  {
   "cell_type": "code",
   "execution_count": null,
   "id": "d194bce2",
   "metadata": {},
   "outputs": [],
   "source": [
    "from math import atan2, cos, pi, sin\n",
    "import numpy as np"
   ]
  },
  {
   "cell_type": "markdown",
   "id": "bc765bf5",
   "metadata": {},
   "source": [
    "# Time Invariance\n",
    "\n",
    "This section shows examples of time variant and time invariant systems in the context of LTI systems."
   ]
  },
  {
   "cell_type": "code",
   "execution_count": null,
   "id": "94a581c3",
   "metadata": {},
   "outputs": [],
   "source": [
    "def plot_transforms(f):\n",
    "    ts = np.linspace(-2,4, 1000)\n",
    "    x = lambda t: np.exp(-t)*(t>=0).astype(float)\n",
    "    \n",
    "    fig, axs = plt.subplots(1, 2)\n",
    "    fig.set_size_inches(18.5, 5)\n",
    "    \n",
    "    axs[0].plot(ts, x(ts), label=\"$x_1$\")\n",
    "    axs[0].plot(ts, x(ts - 0.5), label=\"$x_2$\")\n",
    "    axs[0].legend()\n",
    "\n",
    "    y1 = f(x)\n",
    "    y2 = f(lambda ts: x(ts - 0.5))\n",
    "    axs[1].plot(ts, y1(ts), label=\"$f(x_1)$\")\n",
    "    axs[1].plot(ts, y2(ts), label=\"$f(x_2)$\")\n",
    "    axs[1].legend()"
   ]
  },
  {
   "cell_type": "markdown",
   "id": "a91d67e2",
   "metadata": {},
   "source": [
    "## Time Variant System"
   ]
  },
  {
   "cell_type": "code",
   "execution_count": null,
   "id": "fc747198",
   "metadata": {},
   "outputs": [],
   "source": [
    "def time_dependent_transform(x):\n",
    "    return lambda ts: t*x(ts)\n",
    "\n",
    "plot_transforms(time_dependent_transform)\n"
   ]
  },
  {
   "cell_type": "markdown",
   "id": "3decee0c",
   "metadata": {},
   "source": [
    "## Time Invariant System"
   ]
  },
  {
   "cell_type": "code",
   "execution_count": null,
   "id": "1c781335",
   "metadata": {},
   "outputs": [],
   "source": [
    "def time_independent_transform(x):\n",
    "    return lambda ts: x(ts)*x(ts)\n",
    "\n",
    "plot_transforms(time_independent_transform)\n"
   ]
  },
  {
   "cell_type": "markdown",
   "id": "652720bd",
   "metadata": {},
   "source": [
    "# Moving Average"
   ]
  },
  {
   "cell_type": "code",
   "execution_count": null,
   "id": "a24221da",
   "metadata": {},
   "outputs": [],
   "source": [
    "def plot_freq_function(get_y, y_label):\n",
    "    freq = np.arange(-pi, pi, 0.01)\n",
    "    ys = []\n",
    "    for omega in freq:\n",
    "        ys.append(get_y(omega)) \n",
    "    \n",
    "    fig, ax = plt.subplots()\n",
    "    ax.plot(freq, ys)\n",
    "    fig.set_size_inches(18.5, 5)\n",
    "\n",
    "    ax.set_xlabel('frequency')\n",
    "    ax.set_ylabel(y_label)\n"
   ]
  },
  {
   "cell_type": "code",
   "execution_count": null,
   "id": "840e2f11",
   "metadata": {},
   "outputs": [],
   "source": [
    "def get_magnitude(omega, N=8):\n",
    "    return abs(sin(omega*N/2.0)/sin(omega/2.0)/N)\n",
    "        \n",
    "plot_freq_function(get_magnitude, 'magnitude')\n"
   ]
  },
  {
   "cell_type": "code",
   "execution_count": null,
   "id": "3ad73576",
   "metadata": {},
   "outputs": [],
   "source": [
    "def get_phase(omega, N=8):\n",
    "    # normalize to [0, 2pi]\n",
    "    phase = -(omega * (N-1)/2.0) % (2*pi)\n",
    "    # normalize to [-pi, pi]\n",
    "    if phase > pi:\n",
    "        phase = phase - 2*pi\n",
    "    elif phase < -pi:\n",
    "        phase = 2*pi - phase\n",
    "   \n",
    "    return phase\n",
    "    \n",
    "plot_freq_function(get_phase, 'phase')\n"
   ]
  },
  {
   "cell_type": "markdown",
   "id": "89f05761",
   "metadata": {},
   "source": [
    "# Leaky Integrator"
   ]
  },
  {
   "cell_type": "code",
   "execution_count": null,
   "id": "1a1887ec",
   "metadata": {},
   "outputs": [],
   "source": [
    "def get_magnitude(omega, k=0.9):\n",
    "    return abs((1 - k)**2/(1 + k*k - 2*k*cos(omega)))\n",
    "\n",
    "def get_phase(omega, k=0.9):\n",
    "    phase = atan2(-(k * sin(omega)), 1.0 - k * cos(omega))\n",
    "    return phase\n",
    "\n",
    "plot_freq_function(get_magnitude, 'magnitude')"
   ]
  },
  {
   "cell_type": "code",
   "execution_count": null,
   "id": "950872f8",
   "metadata": {},
   "outputs": [],
   "source": [
    "def get_phase(omega, k=0.9):\n",
    "    phase = atan2(-(k * sin(omega)), 1.0 - k * cos(omega))\n",
    "    return phase\n",
    "\n",
    "plot_freq_function(get_phase, 'phase')"
   ]
  },
  {
   "cell_type": "code",
   "execution_count": null,
   "id": "16cffae0",
   "metadata": {},
   "outputs": [],
   "source": []
  }
 ],
 "metadata": {
  "kernelspec": {
   "display_name": "Python 3",
   "language": "python",
   "name": "python3"
  },
  "language_info": {
   "codemirror_mode": {
    "name": "ipython",
    "version": 3
   },
   "file_extension": ".py",
   "mimetype": "text/x-python",
   "name": "python",
   "nbconvert_exporter": "python",
   "pygments_lexer": "ipython3",
   "version": "3.7.5"
  }
 },
 "nbformat": 4,
 "nbformat_minor": 5
}
